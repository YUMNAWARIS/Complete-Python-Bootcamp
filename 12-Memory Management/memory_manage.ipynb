{
 "cells": [
  {
   "cell_type": "markdown",
   "metadata": {},
   "source": [
    "#### Python Memory Management\n",
    "Memory management in Python involves a combination of automatic garbage collection, reference counting, and various internal optimizations to efficiently manage memory allocation and deallocation. Understanding these mechanisms can help developers write more efficient and robust applications.\n",
    "\n",
    "1. Key Concepts in Python Memory Management\n",
    "2. Memory Allocation and Deallocation\n",
    "3. Reference Counting\n",
    "4. Garbage Collection\n",
    "5. The gc Module\n",
    "6. Memory Management Best Practices"
   ]
  },
  {
   "cell_type": "markdown",
   "metadata": {},
   "source": [
    "#### Reference Counting\n",
    "Reference counting is the primary method Python uses to manage memory. Each object in Python maintains a count of references pointing to it. When the reference count drops to zero, the memory occupied by the object is deallocated."
   ]
  },
  {
   "cell_type": "code",
   "execution_count": 1,
   "metadata": {},
   "outputs": [
    {
     "name": "stdout",
     "output_type": "stream",
     "text": [
      "2\n"
     ]
    }
   ],
   "source": [
    "import sys\n",
    "\n",
    "a=[]\n",
    "## 2 (one reference from 'a' and one from getrefcount())\n",
    "print(sys.getrefcount(a))"
   ]
  },
  {
   "cell_type": "code",
   "execution_count": 2,
   "metadata": {},
   "outputs": [
    {
     "name": "stdout",
     "output_type": "stream",
     "text": [
      "3\n"
     ]
    }
   ],
   "source": [
    "b=a\n",
    "print(sys.getrefcount(b))"
   ]
  },
  {
   "cell_type": "code",
   "execution_count": 3,
   "metadata": {},
   "outputs": [
    {
     "name": "stdout",
     "output_type": "stream",
     "text": [
      "2\n"
     ]
    }
   ],
   "source": [
    "del b\n",
    "print(sys.getrefcount(a))"
   ]
  },
  {
   "cell_type": "code",
   "execution_count": 23,
   "metadata": {},
   "outputs": [
    {
     "name": "stdout",
     "output_type": "stream",
     "text": [
      "2\n"
     ]
    }
   ],
   "source": [
    "del a\n",
    "a = [True]\n",
    "print(sys.getrefcount(a))\n"
   ]
  },
  {
   "cell_type": "markdown",
   "metadata": {},
   "source": [
    "#### Garbage Collection\n",
    "Python includes a cyclic garbage collector to handle reference cycles. Reference cycles occur when objects reference each other, preventing their reference counts from reaching zero."
   ]
  },
  {
   "cell_type": "code",
   "execution_count": 13,
   "metadata": {},
   "outputs": [],
   "source": [
    "import gc\n",
    "## enable garbage collection\n",
    "gc.enable()\n",
    "\n"
   ]
  },
  {
   "cell_type": "code",
   "execution_count": 14,
   "metadata": {},
   "outputs": [],
   "source": [
    "gc.disable()"
   ]
  },
  {
   "cell_type": "code",
   "execution_count": 15,
   "metadata": {},
   "outputs": [
    {
     "data": {
      "text/plain": [
       "1196"
      ]
     },
     "execution_count": 15,
     "metadata": {},
     "output_type": "execute_result"
    }
   ],
   "source": [
    "gc.collect()"
   ]
  },
  {
   "cell_type": "code",
   "execution_count": 47,
   "metadata": {},
   "outputs": [
    {
     "name": "stdout",
     "output_type": "stream",
     "text": [
      "[{'collections': 188, 'collected': 5304, 'uncollectable': 0}, {'collections': 16, 'collected': 310, 'uncollectable': 0}, {'collections': 10, 'collected': 15023, 'uncollectable': 0}]\n"
     ]
    }
   ],
   "source": [
    "### Get garbage collection stats\n",
    "print(gc.get_stats())"
   ]
  },
  {
   "cell_type": "code",
   "execution_count": 48,
   "metadata": {},
   "outputs": [
    {
     "name": "stdout",
     "output_type": "stream",
     "text": [
      "[]\n"
     ]
    }
   ],
   "source": [
    "### get unreachable objects\n",
    "print(gc.garbage)"
   ]
  },
  {
   "cell_type": "markdown",
   "metadata": {},
   "source": [
    "####  Memory Management Best Practices\n",
    "1. Use Local Variables: Local variables have a shorter lifespan and are freed sooner than global variables.\n",
    "2. Avoid Circular References: Circular references can lead to memory leaks if not properly managed.\n",
    "3. Use Generators: Generators produce items one at a time and only keep one item in memory at a time, making them memory efficient.\n",
    "4. Explicitly Delete Objects: Use the del statement to delete variables and objects explicitly.\n",
    "5. Profile Memory Usage: Use memory profiling tools like tracemalloc and memory_profiler to identify memory leaks and optimize memory usage."
   ]
  },
  {
   "cell_type": "code",
   "execution_count": 49,
   "metadata": {},
   "outputs": [
    {
     "name": "stdout",
     "output_type": "stream",
     "text": [
      "Object obj1 created\n",
      "Object obj2 created\n",
      "Printing Object: obj1\n",
      "Printing Object: obj2\n",
      "Object obj1 deleted\n",
      "Object obj2 deleted\n"
     ]
    },
    {
     "data": {
      "text/plain": [
       "10"
      ]
     },
     "execution_count": 49,
     "metadata": {},
     "output_type": "execute_result"
    }
   ],
   "source": [
    "## Handled Circular reference\n",
    "import gc\n",
    "\n",
    "class MyObject:\n",
    "    def __init__(self, name):\n",
    "        self.name = name\n",
    "        print(f\"Object {self.name} created\")\n",
    "\n",
    "    def __del__(self):\n",
    "        print(f\"Object {self.name} deleted\")\n",
    "\n",
    "    def __str__(self):\n",
    "        return f\"Printing Object: {self.name}\"\n",
    "\n",
    "# Create circular reference\n",
    "obj1 = MyObject(\"obj1\")\n",
    "obj2 = MyObject(\"obj2\")\n",
    "obj1.ref = obj2\n",
    "obj2.ref = obj1\n",
    "\n",
    "print(obj1)\n",
    "print(obj2)\n",
    "\n",
    "del obj1\n",
    "del obj2\n",
    "\n",
    "# ## Manually trigger the garbage collection\n",
    "gc.collect()\n",
    "\n"
   ]
  },
  {
   "cell_type": "code",
   "execution_count": 44,
   "metadata": {},
   "outputs": [
    {
     "name": "stdout",
     "output_type": "stream",
     "text": [
      "[]\n",
      "Object obj1 deleted\n",
      "Object obj2 deleted\n",
      "Object obj1 deleted\n",
      "Object obj2 deleted\n"
     ]
    },
    {
     "data": {
      "text/plain": [
       "263"
      ]
     },
     "execution_count": 44,
     "metadata": {},
     "output_type": "execute_result"
    }
   ],
   "source": [
    "gc.disable()\n",
    "print(gc.garbage)\n",
    "\n",
    "gc.enable()\n",
    "gc.collect()"
   ]
  },
  {
   "cell_type": "code",
   "execution_count": 50,
   "metadata": {},
   "outputs": [
    {
     "name": "stdout",
     "output_type": "stream",
     "text": [
      "0\n",
      "1\n",
      "2\n",
      "3\n",
      "4\n",
      "5\n",
      "6\n",
      "7\n",
      "8\n",
      "9\n",
      "10\n",
      "11\n"
     ]
    }
   ],
   "source": [
    "## Generators For Memory Efficiency\n",
    "#Generators allow you to produce items one at a time, using memory efficiently by only keeping one item in memory at a time.\n",
    "\n",
    "def generate_numbers(n):\n",
    "    for i in range(n):\n",
    "        yield i\n",
    "\n",
    "## using the generator\n",
    "for num in generate_numbers(100000):\n",
    "    print(num)\n",
    "    if num>10:\n",
    "        break"
   ]
  },
  {
   "cell_type": "code",
   "execution_count": 51,
   "metadata": {},
   "outputs": [],
   "source": [
    "## Profiling Memory USage with tracemalloc\n",
    "import tracemalloc\n",
    "\n",
    "def create_list():\n",
    "    return [i for i in range(10000)]\n",
    "\n",
    "def main():\n",
    "    tracemalloc.start()\n",
    "    \n",
    "    create_list()\n",
    "    \n",
    "    snapshot = tracemalloc.take_snapshot()\n",
    "    top_stats = snapshot.statistics('lineno')\n",
    "    \n",
    "    print(\"[ Top 10 ]\")\n",
    "    for stat in top_stats[::]:\n",
    "        print(stat)\n"
   ]
  },
  {
   "cell_type": "code",
   "execution_count": 52,
   "metadata": {},
   "outputs": [
    {
     "name": "stdout",
     "output_type": "stream",
     "text": [
      "[ Top 10 ]\n",
      "/opt/anaconda3/envs/ml_venv/lib/python3.12/tokenize.py:570: size=15.1 KiB, count=275, average=56 B\n",
      "/opt/anaconda3/envs/ml_venv/lib/python3.12/site-packages/IPython/core/builtin_trap.py:77: size=6512 B, count=1, average=6512 B\n",
      "/opt/anaconda3/envs/ml_venv/lib/python3.12/site-packages/zmq/sugar/attrsettr.py:45: size=4747 B, count=101, average=47 B\n",
      "/opt/anaconda3/envs/ml_venv/lib/python3.12/codeop.py:126: size=4732 B, count=57, average=83 B\n",
      "/opt/anaconda3/envs/ml_venv/lib/python3.12/site-packages/traitlets/traitlets.py:731: size=4216 B, count=68, average=62 B\n",
      "/opt/anaconda3/envs/ml_venv/lib/python3.12/asyncio/selector_events.py:132: size=4129 B, count=1, average=4129 B\n",
      "/opt/anaconda3/envs/ml_venv/lib/python3.12/site-packages/IPython/core/compilerop.py:174: size=4027 B, count=56, average=72 B\n",
      "/opt/anaconda3/envs/ml_venv/lib/python3.12/site-packages/traitlets/traitlets.py:1514: size=3360 B, count=28, average=120 B\n",
      "/opt/anaconda3/envs/ml_venv/lib/python3.12/site-packages/traitlets/traitlets.py:1543: size=3025 B, count=50, average=60 B\n",
      "/opt/anaconda3/envs/ml_venv/lib/python3.12/site-packages/IPython/core/interactiveshell.py:3050: size=2640 B, count=11, average=240 B\n",
      "/opt/anaconda3/envs/ml_venv/lib/python3.12/json/decoder.py:354: size=2590 B, count=27, average=96 B\n",
      "/var/folders/cn/gg12qpdx7q38_nytthp331h80000gn/T/ipykernel_7967/3659224688.py:4: size=2304 B, count=9, average=256 B\n",
      "/opt/anaconda3/envs/ml_venv/lib/python3.12/site-packages/jupyter_client/jsonutil.py:111: size=2200 B, count=44, average=50 B\n",
      "/opt/anaconda3/envs/ml_venv/lib/python3.12/site-packages/IPython/core/compilerop.py:86: size=2095 B, count=32, average=65 B\n",
      "/opt/anaconda3/envs/ml_venv/lib/python3.12/site-packages/IPython/core/interactiveshell.py:3052: size=1876 B, count=5, average=375 B\n",
      "/opt/anaconda3/envs/ml_venv/lib/python3.12/site-packages/ipykernel/iostream.py:346: size=1680 B, count=18, average=93 B\n",
      "/opt/anaconda3/envs/ml_venv/lib/python3.12/contextlib.py:105: size=1616 B, count=15, average=108 B\n",
      "/opt/anaconda3/envs/ml_venv/lib/python3.12/site-packages/IPython/core/history.py:958: size=1529 B, count=6, average=255 B\n",
      "/opt/anaconda3/envs/ml_venv/lib/python3.12/threading.py:293: size=1520 B, count=4, average=380 B\n",
      "/opt/anaconda3/envs/ml_venv/lib/python3.12/site-packages/ipykernel/iostream.py:287: size=1488 B, count=13, average=114 B\n",
      "/opt/anaconda3/envs/ml_venv/lib/python3.12/site-packages/ipykernel/iostream.py:276: size=1464 B, count=12, average=122 B\n",
      "/opt/anaconda3/envs/ml_venv/lib/python3.12/site-packages/jupyter_client/session.py:100: size=1233 B, count=8, average=154 B\n",
      "/opt/anaconda3/envs/ml_venv/lib/python3.12/site-packages/jupyter_client/session.py:1057: size=1207 B, count=10, average=121 B\n",
      "/opt/anaconda3/envs/ml_venv/lib/python3.12/site-packages/zmq/sugar/socket.py:802: size=1056 B, count=6, average=176 B\n",
      "/opt/anaconda3/envs/ml_venv/lib/python3.12/site-packages/IPython/core/history.py:959: size=942 B, count=2, average=471 B\n",
      "/opt/anaconda3/envs/ml_venv/lib/python3.12/site-packages/IPython/core/history.py:1011: size=760 B, count=10, average=76 B\n",
      "/opt/anaconda3/envs/ml_venv/lib/python3.12/site-packages/ipykernel/compiler.py:92: size=707 B, count=6, average=118 B\n",
      "/opt/anaconda3/envs/ml_venv/lib/python3.12/threading.py:290: size=688 B, count=6, average=115 B\n",
      "/opt/anaconda3/envs/ml_venv/lib/python3.12/asyncio/events.py:88: size=632 B, count=8, average=79 B\n",
      "/opt/anaconda3/envs/ml_venv/lib/python3.12/site-packages/ipykernel/zmqshell.py:546: size=592 B, count=7, average=85 B\n",
      "/opt/anaconda3/envs/ml_venv/lib/python3.12/site-packages/decorator.py:204: size=560 B, count=7, average=80 B\n",
      "/opt/anaconda3/envs/ml_venv/lib/python3.12/site-packages/IPython/core/interactiveshell.py:3127: size=528 B, count=4, average=132 B\n",
      "/opt/anaconda3/envs/ml_venv/lib/python3.12/site-packages/IPython/core/history.py:966: size=512 B, count=1, average=512 B\n",
      "/opt/anaconda3/envs/ml_venv/lib/python3.12/site-packages/IPython/core/history.py:965: size=512 B, count=1, average=512 B\n",
      "/opt/anaconda3/envs/ml_venv/lib/python3.12/asyncio/base_events.py:448: size=432 B, count=3, average=144 B\n",
      "/opt/anaconda3/envs/ml_venv/lib/python3.12/site-packages/ipykernel/kernelbase.py:722: size=416 B, count=2, average=208 B\n",
      "/opt/anaconda3/envs/ml_venv/lib/python3.12/site-packages/IPython/core/interactiveshell.py:3047: size=400 B, count=10, average=40 B\n",
      "/opt/anaconda3/envs/ml_venv/lib/python3.12/asyncio/futures.py:396: size=392 B, count=3, average=131 B\n",
      "/opt/anaconda3/envs/ml_venv/lib/python3.12/asyncio/events.py:38: size=384 B, count=6, average=64 B\n",
      "/opt/anaconda3/envs/ml_venv/lib/python3.12/site-packages/ipykernel/iostream.py:692: size=384 B, count=4, average=96 B\n",
      "/opt/anaconda3/envs/ml_venv/lib/python3.12/site-packages/IPython/core/interactiveshell.py:3365: size=376 B, count=1, average=376 B\n",
      "/opt/anaconda3/envs/ml_venv/lib/python3.12/threading.py:135: size=368 B, count=4, average=92 B\n",
      "/opt/anaconda3/envs/ml_venv/lib/python3.12/asyncio/futures.py:420: size=360 B, count=9, average=40 B\n",
      "/opt/anaconda3/envs/ml_venv/lib/python3.12/site-packages/zmq/eventloop/zmqstream.py:641: size=360 B, count=3, average=120 B\n",
      "/opt/anaconda3/envs/ml_venv/lib/python3.12/inspect.py:266: size=360 B, count=3, average=120 B\n",
      "/opt/anaconda3/envs/ml_venv/lib/python3.12/site-packages/ipykernel/kernelbase.py:410: size=344 B, count=1, average=344 B\n",
      "/opt/anaconda3/envs/ml_venv/lib/python3.12/site-packages/IPython/core/interactiveshell.py:3025: size=320 B, count=2, average=160 B\n",
      "/opt/anaconda3/envs/ml_venv/lib/python3.12/asyncio/futures.py:383: size=320 B, count=2, average=160 B\n",
      "/opt/anaconda3/envs/ml_venv/lib/python3.12/contextlib.py:301: size=312 B, count=6, average=52 B\n",
      "/opt/anaconda3/envs/ml_venv/lib/python3.12/asyncio/base_events.py:819: size=312 B, count=3, average=104 B\n",
      "/opt/anaconda3/envs/ml_venv/lib/python3.12/site-packages/IPython/core/interactiveshell.py:3610: size=296 B, count=1, average=296 B\n",
      "/opt/anaconda3/envs/ml_venv/lib/python3.12/site-packages/IPython/core/interactiveshell.py:3249: size=288 B, count=5, average=58 B\n",
      "/opt/anaconda3/envs/ml_venv/lib/python3.12/site-packages/tornado/queues.py:248: size=288 B, count=2, average=144 B\n",
      "/opt/anaconda3/envs/ml_venv/lib/python3.12/site-packages/IPython/core/history.py:982: size=270 B, count=6, average=45 B\n",
      "/opt/anaconda3/envs/ml_venv/lib/python3.12/site-packages/ipykernel/kernelbase.py:505: size=264 B, count=1, average=264 B\n",
      "/opt/anaconda3/envs/ml_venv/lib/python3.12/site-packages/ipykernel/iostream.py:120: size=248 B, count=1, average=248 B\n",
      "/opt/anaconda3/envs/ml_venv/lib/python3.12/site-packages/ipykernel/kernelbase.py:299: size=240 B, count=4, average=60 B\n",
      "/opt/anaconda3/envs/ml_venv/lib/python3.12/site-packages/zmq/eventloop/zmqstream.py:358: size=240 B, count=2, average=120 B\n",
      "/opt/anaconda3/envs/ml_venv/lib/python3.12/logging/__init__.py:1622: size=240 B, count=1, average=240 B\n",
      "/opt/anaconda3/envs/ml_venv/lib/python3.12/site-packages/ipykernel/kernelbase.py:516: size=232 B, count=1, average=232 B\n",
      "/opt/anaconda3/envs/ml_venv/lib/python3.12/site-packages/jupyter_client/session.py:1085: size=208 B, count=1, average=208 B\n",
      "/opt/anaconda3/envs/ml_venv/lib/python3.12/site-packages/jupyter_client/jsonutil.py:75: size=208 B, count=1, average=208 B\n",
      "/opt/anaconda3/envs/ml_venv/lib/python3.12/site-packages/jupyter_client/session.py:688: size=194 B, count=2, average=97 B\n",
      "/opt/anaconda3/envs/ml_venv/lib/python3.12/site-packages/jupyter_client/session.py:750: size=192 B, count=2, average=96 B\n",
      "/opt/anaconda3/envs/ml_venv/lib/python3.12/site-packages/IPython/core/interactiveshell.py:3250: size=176 B, count=4, average=44 B\n",
      "/opt/anaconda3/envs/ml_venv/lib/python3.12/site-packages/decorator.py:235: size=176 B, count=3, average=59 B\n",
      "/opt/anaconda3/envs/ml_venv/lib/python3.12/site-packages/zmq/sugar/socket.py:799: size=176 B, count=1, average=176 B\n",
      "/opt/anaconda3/envs/ml_venv/lib/python3.12/site-packages/ipykernel/kernelbase.py:1114: size=173 B, count=2, average=86 B\n",
      "/var/folders/cn/gg12qpdx7q38_nytthp331h80000gn/T/ipykernel_7967/3835544042.py:7: size=160 B, count=1, average=160 B\n",
      "/var/folders/cn/gg12qpdx7q38_nytthp331h80000gn/T/ipykernel_7967/3835544042.py:4: size=160 B, count=1, average=160 B\n",
      "/var/folders/cn/gg12qpdx7q38_nytthp331h80000gn/T/ipykernel_7967/3659224688.py:12: size=160 B, count=1, average=160 B\n",
      "/var/folders/cn/gg12qpdx7q38_nytthp331h80000gn/T/ipykernel_7967/3659224688.py:9: size=160 B, count=1, average=160 B\n",
      "/var/folders/cn/gg12qpdx7q38_nytthp331h80000gn/T/ipykernel_7967/3659224688.py:5: size=160 B, count=1, average=160 B\n",
      "/var/folders/cn/gg12qpdx7q38_nytthp331h80000gn/T/ipykernel_7967/2535926316.py:4: size=160 B, count=1, average=160 B\n",
      "/opt/anaconda3/envs/ml_venv/lib/python3.12/site-packages/ipykernel/kernelbase.py:541: size=160 B, count=1, average=160 B\n",
      "/opt/anaconda3/envs/ml_venv/lib/python3.12/site-packages/IPython/core/interactiveshell.py:3670: size=160 B, count=1, average=160 B\n",
      "/opt/anaconda3/envs/ml_venv/lib/python3.12/site-packages/IPython/core/interactiveshell.py:3586: size=160 B, count=1, average=160 B\n",
      "/opt/anaconda3/envs/ml_venv/lib/python3.12/site-packages/IPython/core/interactiveshell.py:3263: size=160 B, count=1, average=160 B\n",
      "/opt/anaconda3/envs/ml_venv/lib/python3.12/asyncio/futures.py:389: size=160 B, count=1, average=160 B\n",
      "/opt/anaconda3/envs/ml_venv/lib/python3.12/selectors.py:566: size=152 B, count=2, average=76 B\n",
      "/opt/anaconda3/envs/ml_venv/lib/python3.12/threading.py:292: size=144 B, count=2, average=72 B\n",
      "/opt/anaconda3/envs/ml_venv/lib/python3.12/threading.py:288: size=144 B, count=2, average=72 B\n",
      "/opt/anaconda3/envs/ml_venv/lib/python3.12/threading.py:283: size=144 B, count=2, average=72 B\n",
      "/opt/anaconda3/envs/ml_venv/lib/python3.12/threading.py:282: size=144 B, count=2, average=72 B\n",
      "/opt/anaconda3/envs/ml_venv/lib/python3.12/site-packages/tornado/platform/asyncio.py:241: size=144 B, count=2, average=72 B\n",
      "/opt/anaconda3/envs/ml_venv/lib/python3.12/site-packages/IPython/core/compilerop.py:171: size=144 B, count=2, average=72 B\n",
      "/opt/anaconda3/envs/ml_venv/lib/python3.12/site-packages/IPython/core/interactiveshell.py:3602: size=128 B, count=3, average=43 B\n",
      "/opt/anaconda3/envs/ml_venv/lib/python3.12/site-packages/IPython/core/interactiveshell.py:3096: size=128 B, count=2, average=64 B\n",
      "/opt/anaconda3/envs/ml_venv/lib/python3.12/site-packages/IPython/core/interactiveshell.py:3048: size=128 B, count=2, average=64 B\n",
      "/opt/anaconda3/envs/ml_venv/lib/python3.12/tokenize.py:566: size=120 B, count=1, average=120 B\n",
      "/opt/anaconda3/envs/ml_venv/lib/python3.12/site-packages/jupyter_client/session.py:278: size=120 B, count=1, average=120 B\n",
      "/opt/anaconda3/envs/ml_venv/lib/python3.12/inspect.py:3218: size=120 B, count=1, average=120 B\n",
      "/opt/anaconda3/envs/ml_venv/lib/python3.12/inspect.py:2975: size=120 B, count=1, average=120 B\n",
      "/opt/anaconda3/envs/ml_venv/lib/python3.12/asyncio/base_events.py:782: size=120 B, count=1, average=120 B\n",
      "/opt/anaconda3/envs/ml_venv/lib/python3.12/site-packages/IPython/core/async_helpers.py:150: size=113 B, count=2, average=56 B\n",
      "/opt/anaconda3/envs/ml_venv/lib/python3.12/json/encoder.py:249: size=112 B, count=1, average=112 B\n",
      "/opt/anaconda3/envs/ml_venv/lib/python3.12/site-packages/jupyter_client/session.py:989: size=111 B, count=2, average=56 B\n",
      "/opt/anaconda3/envs/ml_venv/lib/python3.12/inspect.py:2129: size=104 B, count=1, average=104 B\n",
      "/opt/anaconda3/envs/ml_venv/lib/python3.12/site-packages/IPython/core/interactiveshell.py:3468: size=96 B, count=2, average=48 B\n",
      "/opt/anaconda3/envs/ml_venv/lib/python3.12/site-packages/IPython/core/history.py:969: size=96 B, count=2, average=48 B\n",
      "/opt/anaconda3/envs/ml_venv/lib/python3.12/concurrent/futures/_base.py:330: size=96 B, count=2, average=48 B\n",
      "/opt/anaconda3/envs/ml_venv/lib/python3.12/inspect.py:2138: size=96 B, count=1, average=96 B\n",
      "/opt/anaconda3/envs/ml_venv/lib/python3.12/site-packages/IPython/core/interactiveshell.py:3596: size=88 B, count=2, average=44 B\n",
      "/opt/anaconda3/envs/ml_venv/lib/python3.12/inspect.py:2421: size=88 B, count=1, average=88 B\n",
      "/opt/anaconda3/envs/ml_venv/lib/python3.12/site-packages/IPython/core/displayhook.py:223: size=87 B, count=2, average=44 B\n",
      "/opt/anaconda3/envs/ml_venv/lib/python3.12/site-packages/IPython/core/compilerop.py:172: size=84 B, count=3, average=28 B\n",
      "/opt/anaconda3/envs/ml_venv/lib/python3.12/site-packages/IPython/core/displayhook.py:253: size=80 B, count=2, average=40 B\n",
      "/opt/anaconda3/envs/ml_venv/lib/python3.12/asyncio/base_events.py:1983: size=80 B, count=2, average=40 B\n",
      "/opt/anaconda3/envs/ml_venv/lib/python3.12/site-packages/IPython/core/history.py:1030: size=72 B, count=1, average=72 B\n",
      "/opt/anaconda3/envs/ml_venv/lib/python3.12/site-packages/IPython/core/history.py:1009: size=72 B, count=1, average=72 B\n",
      "/opt/anaconda3/envs/ml_venv/lib/python3.12/concurrent/futures/_base.py:421: size=64 B, count=2, average=32 B\n",
      "/opt/anaconda3/envs/ml_venv/lib/python3.12/site-packages/zmq/sugar/socket.py:803: size=64 B, count=1, average=64 B\n",
      "/opt/anaconda3/envs/ml_venv/lib/python3.12/site-packages/jupyter_client/session.py:1053: size=64 B, count=1, average=64 B\n",
      "/opt/anaconda3/envs/ml_venv/lib/python3.12/site-packages/jupyter_client/jsonutil.py:73: size=64 B, count=1, average=64 B\n",
      "/opt/anaconda3/envs/ml_venv/lib/python3.12/site-packages/ipykernel/kernelbase.py:684: size=64 B, count=1, average=64 B\n",
      "/opt/anaconda3/envs/ml_venv/lib/python3.12/site-packages/ipykernel/ipkernel.py:357: size=64 B, count=1, average=64 B\n",
      "/opt/anaconda3/envs/ml_venv/lib/python3.12/site-packages/ipykernel/ipkernel.py:356: size=64 B, count=1, average=64 B\n",
      "/opt/anaconda3/envs/ml_venv/lib/python3.12/site-packages/ipykernel/ipkernel.py:277: size=64 B, count=1, average=64 B\n",
      "/opt/anaconda3/envs/ml_venv/lib/python3.12/site-packages/ipykernel/ipkernel.py:274: size=64 B, count=1, average=64 B\n",
      "/opt/anaconda3/envs/ml_venv/lib/python3.12/site-packages/IPython/core/interactiveshell.py:3659: size=64 B, count=1, average=64 B\n",
      "/opt/anaconda3/envs/ml_venv/lib/python3.12/site-packages/IPython/core/interactiveshell.py:3608: size=64 B, count=1, average=64 B\n",
      "/opt/anaconda3/envs/ml_venv/lib/python3.12/site-packages/IPython/core/interactiveshell.py:3334: size=64 B, count=1, average=64 B\n",
      "/opt/anaconda3/envs/ml_venv/lib/python3.12/site-packages/IPython/core/interactiveshell.py:3331: size=64 B, count=1, average=64 B\n",
      "/opt/anaconda3/envs/ml_venv/lib/python3.12/site-packages/IPython/core/history.py:1111: size=64 B, count=1, average=64 B\n",
      "/opt/anaconda3/envs/ml_venv/lib/python3.12/site-packages/IPython/core/history.py:98: size=64 B, count=1, average=64 B\n",
      "/opt/anaconda3/envs/ml_venv/lib/python3.12/site-packages/IPython/core/formatters.py:1010: size=64 B, count=1, average=64 B\n",
      "/opt/anaconda3/envs/ml_venv/lib/python3.12/site-packages/zmq/sugar/poll.py:50: size=56 B, count=1, average=56 B\n",
      "/opt/anaconda3/envs/ml_venv/lib/python3.12/site-packages/zmq/eventloop/zmqstream.py:458: size=56 B, count=1, average=56 B\n",
      "/opt/anaconda3/envs/ml_venv/lib/python3.12/site-packages/traitlets/traitlets.py:3487: size=56 B, count=1, average=56 B\n",
      "/opt/anaconda3/envs/ml_venv/lib/python3.12/site-packages/traitlets/traitlets.py:1540: size=56 B, count=1, average=56 B\n",
      "/opt/anaconda3/envs/ml_venv/lib/python3.12/site-packages/jupyter_client/session.py:854: size=56 B, count=1, average=56 B\n",
      "/opt/anaconda3/envs/ml_venv/lib/python3.12/site-packages/IPython/lib/pretty.py:787: size=56 B, count=1, average=56 B\n",
      "/opt/anaconda3/envs/ml_venv/lib/python3.12/site-packages/IPython/lib/pretty.py:499: size=56 B, count=1, average=56 B\n",
      "/opt/anaconda3/envs/ml_venv/lib/python3.12/site-packages/IPython/lib/pretty.py:204: size=56 B, count=1, average=56 B\n",
      "/opt/anaconda3/envs/ml_venv/lib/python3.12/selectors.py:564: size=56 B, count=1, average=56 B\n",
      "/opt/anaconda3/envs/ml_venv/lib/python3.12/inspect.py:2917: size=56 B, count=1, average=56 B\n",
      "/opt/anaconda3/envs/ml_venv/lib/python3.12/concurrent/futures/_base.py:334: size=56 B, count=1, average=56 B\n",
      "/opt/anaconda3/envs/ml_venv/lib/python3.12/collections/__init__.py:449: size=56 B, count=1, average=56 B\n",
      "/opt/anaconda3/envs/ml_venv/lib/python3.12/site-packages/zmq/eventloop/zmqstream.py:550: size=48 B, count=1, average=48 B\n",
      "/opt/anaconda3/envs/ml_venv/lib/python3.12/site-packages/tornado/concurrent.py:196: size=48 B, count=1, average=48 B\n",
      "/opt/anaconda3/envs/ml_venv/lib/python3.12/site-packages/jupyter_client/session.py:200: size=48 B, count=1, average=48 B\n",
      "/opt/anaconda3/envs/ml_venv/lib/python3.12/site-packages/dateutil/parser/isoparser.py:146: size=48 B, count=1, average=48 B\n",
      "/opt/anaconda3/envs/ml_venv/lib/python3.12/site-packages/IPython/lib/pretty.py:205: size=48 B, count=1, average=48 B\n",
      "/opt/anaconda3/envs/ml_venv/lib/python3.12/site-packages/IPython/core/interactiveshell.py:3598: size=48 B, count=1, average=48 B\n",
      "/opt/anaconda3/envs/ml_venv/lib/python3.12/site-packages/IPython/core/history.py:1010: size=48 B, count=1, average=48 B\n",
      "/opt/anaconda3/envs/ml_venv/lib/python3.12/site-packages/IPython/core/formatters.py:490: size=48 B, count=1, average=48 B\n",
      "/opt/anaconda3/envs/ml_venv/lib/python3.12/asyncio/selector_events.py:152: size=48 B, count=1, average=48 B\n",
      "/opt/anaconda3/envs/ml_venv/lib/python3.12/site-packages/IPython/core/prefilter.py:317: size=47 B, count=1, average=47 B\n",
      "/opt/anaconda3/envs/ml_venv/lib/python3.12/site-packages/IPython/core/displayhook.py:241: size=44 B, count=1, average=44 B\n",
      "/opt/anaconda3/envs/ml_venv/lib/python3.12/site-packages/IPython/lib/pretty.py:237: size=43 B, count=1, average=43 B\n",
      "/opt/anaconda3/envs/ml_venv/lib/python3.12/site-packages/jupyter_client/session.py:996: size=32 B, count=1, average=32 B\n",
      "/opt/anaconda3/envs/ml_venv/lib/python3.12/site-packages/jupyter_client/session.py:603: size=32 B, count=1, average=32 B\n",
      "/opt/anaconda3/envs/ml_venv/lib/python3.12/site-packages/ipykernel/iostream.py:608: size=32 B, count=1, average=32 B\n",
      "/opt/anaconda3/envs/ml_venv/lib/python3.12/site-packages/IPython/core/compilerop.py:192: size=32 B, count=1, average=32 B\n",
      "/opt/anaconda3/envs/ml_venv/lib/python3.12/asyncio/base_events.py:785: size=32 B, count=1, average=32 B\n",
      "/opt/anaconda3/envs/ml_venv/lib/python3.12/logging/__init__.py:343: size=24 B, count=1, average=24 B\n",
      "/opt/anaconda3/envs/ml_venv/lib/python3.12/logging/__init__.py:303: size=24 B, count=1, average=24 B\n",
      "/opt/anaconda3/envs/ml_venv/lib/python3.12/asyncio/base_events.py:765: size=24 B, count=1, average=24 B\n",
      "/opt/anaconda3/envs/ml_venv/lib/python3.12/site-packages/IPython/core/interactiveshell.py:3578: size=8 B, count=1, average=8 B\n"
     ]
    }
   ],
   "source": [
    "main()"
   ]
  },
  {
   "cell_type": "code",
   "execution_count": 53,
   "metadata": {},
   "outputs": [
    {
     "data": {
      "text/plain": [
       "0"
      ]
     },
     "execution_count": 53,
     "metadata": {},
     "output_type": "execute_result"
    }
   ],
   "source": [
    "gc.collect()"
   ]
  }
 ],
 "metadata": {
  "kernelspec": {
   "display_name": "ml_venv",
   "language": "python",
   "name": "python3"
  },
  "language_info": {
   "codemirror_mode": {
    "name": "ipython",
    "version": 3
   },
   "file_extension": ".py",
   "mimetype": "text/x-python",
   "name": "python",
   "nbconvert_exporter": "python",
   "pygments_lexer": "ipython3",
   "version": "3.12.9"
  }
 },
 "nbformat": 4,
 "nbformat_minor": 2
}

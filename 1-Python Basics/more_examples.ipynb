{
 "cells": [
  {
   "cell_type": "code",
   "execution_count": 7,
   "id": "cd09c6e5",
   "metadata": {},
   "outputs": [
    {
     "name": "stdout",
     "output_type": "stream",
     "text": [
      "The area of circle with radius 10 is 314.159\n"
     ]
    }
   ],
   "source": [
    "# LISTING 2.1 ComputeArea.py\n",
    "radius = eval(input(\"Enter radius of the circle: \"))\n",
    "PI = 3.14159\n",
    "area = PI * (radius ** 2)\n",
    "\n",
    "print(f\"The area of circle with radius {radius} is {area}\")"
   ]
  },
  {
   "cell_type": "code",
   "execution_count": 8,
   "id": "b2bbcdfd",
   "metadata": {},
   "outputs": [
    {
     "name": "stdout",
     "output_type": "stream",
     "text": [
      "The average of 1, 2 and 3 is 2.0\n"
     ]
    }
   ],
   "source": [
    "# LISTING 2.3 ComputeAverage.py\n",
    "\n",
    "n1 = eval(input(\"Enter first number: \"))\n",
    "n2 = eval(input(\"Enter second number: \"))\n",
    "n3 = eval(input(\"Enter third number: \"))\n",
    "\n",
    "average = (n1 + n2 + n3) / 3\n",
    "print(f\"The average of {n1}, {n2} and {n3} is {average}\")"
   ]
  },
  {
   "cell_type": "code",
   "execution_count": 9,
   "id": "8c7c6d4c",
   "metadata": {},
   "outputs": [
    {
     "name": "stdout",
     "output_type": "stream",
     "text": [
      "The average of 1, 2 and 3 is 2.0\n"
     ]
    }
   ],
   "source": [
    "# LISTING 2.4 ComputeAverageWithSimultaneousAssignment.py\n",
    "\n",
    "n1, n2, n3 = eval(input(\"Enter three comma separated numbers: \"))\n",
    "average = (n1 + n2 + n3) / 3\n",
    "print(f\"The average of {n1}, {n2} and {n3} is {average}\")"
   ]
  },
  {
   "cell_type": "code",
   "execution_count": 24,
   "id": "138e41dd",
   "metadata": {},
   "outputs": [
    {
     "name": "stdout",
     "output_type": "stream",
     "text": [
      "Sales tax on 197.55 is 11.85\n"
     ]
    }
   ],
   "source": [
    "# LISTING 2.6 SalesTax.py\n",
    "\n",
    "purchase_amount = eval(input(\"Enter the purchase amount: \"))\n",
    "tax = purchase_amount * 0.06\n",
    "\n",
    "print(f\"Sales tax on {purchase_amount} is {int(tax * 100) / 100.0}\")"
   ]
  },
  {
   "cell_type": "code",
   "execution_count": 25,
   "id": "4828ede8",
   "metadata": {},
   "outputs": [
    {
     "name": "stdout",
     "output_type": "stream",
     "text": [
      "The distance between the two points is 8.764131445842194\n"
     ]
    }
   ],
   "source": [
    "# LISTING 2.9 ComputeDistance.py\n",
    "\n",
    "x1, y1 = eval(input(\"Enter x1 and y1 for Point 1: \"))\n",
    "x2, y2 = eval(input(\"Enter x2 and y2 for Point 2: \"))\n",
    "\n",
    "distance = ((x1 - x2) * (x1 - x2) + (y1 - y2) * (y1 - y2)) ** 0.5\n",
    "\n",
    "print(\"The distance between the two points is\", distance) "
   ]
  }
 ],
 "metadata": {
  "kernelspec": {
   "display_name": "ml_venv",
   "language": "python",
   "name": "python3"
  },
  "language_info": {
   "codemirror_mode": {
    "name": "ipython",
    "version": 3
   },
   "file_extension": ".py",
   "mimetype": "text/x-python",
   "name": "python",
   "nbconvert_exporter": "python",
   "pygments_lexer": "ipython3",
   "version": "3.12.9"
  }
 },
 "nbformat": 4,
 "nbformat_minor": 5
}
